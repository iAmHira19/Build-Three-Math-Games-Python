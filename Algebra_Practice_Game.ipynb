{
  "nbformat": 4,
  "nbformat_minor": 0,
  "metadata": {
    "colab": {
      "provenance": [],
      "authorship_tag": "ABX9TyMC9q+ac56HGZqslEZHy10g",
      "include_colab_link": true
    },
    "kernelspec": {
      "name": "python3",
      "display_name": "Python 3"
    },
    "language_info": {
      "name": "python"
    }
  },
  "cells": [
    {
      "cell_type": "markdown",
      "metadata": {
        "id": "view-in-github",
        "colab_type": "text"
      },
      "source": [
        "<a href=\"https://colab.research.google.com/github/iAmHira19/Build-Three-Math-Games-Python/blob/main/Algebra_Practice_Game.ipynb\" target=\"_parent\"><img src=\"https://colab.research.google.com/assets/colab-badge.svg\" alt=\"Open In Colab\"/></a>"
      ]
    },
    {
      "cell_type": "code",
      "execution_count": 7,
      "metadata": {
        "colab": {
          "base_uri": "https://localhost:8080/"
        },
        "id": "Li_Wx9R509ac",
        "outputId": "eff823a3-bc9f-47c7-f639-e7dec4d2ae9a"
      },
      "outputs": [
        {
          "output_type": "stream",
          "name": "stdout",
          "text": [
            "Requirement already satisfied: sympy in /usr/local/lib/python3.10/dist-packages (1.13.1)\n",
            "Requirement already satisfied: mpmath<1.4,>=1.1.0 in /usr/local/lib/python3.10/dist-packages (from sympy) (1.3.0)\n",
            "Algebra Practice Game\n",
            "Solve the equation: -6x + -10 = -10\n",
            "Enter your answer for x: 3\n",
            "Incorrect! The correct answer is 0\n",
            "Solve the equation: -4x + 4 = -2\n",
            "Enter your answer for x: 2\n",
            "Incorrect! The correct answer is 3/2\n",
            "Solve the equation: -7x + -10 = -7\n",
            "Enter your answer for x: 1\n",
            "Incorrect! The correct answer is -3/7\n",
            "Solve the equation: -8x + -3 = 7\n",
            "Enter your answer for x: 5\n",
            "Incorrect! The correct answer is -5/4\n",
            "Solve the equation: 2x + -5 = -6\n",
            "Enter your answer for x: 7\n",
            "Incorrect! The correct answer is -1/2\n"
          ]
        }
      ],
      "source": [
        "# Install necessary libraries\n",
        "!pip install sympy\n",
        "\n",
        "# Import libraries\n",
        "import sympy as sp\n",
        "import random\n",
        "\n",
        "# Function to generate random algebra problems\n",
        "def algebra_practice_game():\n",
        "    print(\"Algebra Practice Game\")\n",
        "\n",
        "    def generate_problem():\n",
        "        a, b = random.randint(-10, 10), random.randint(-10, 10)\n",
        "        c = random.randint(-10, 10)\n",
        "        return f\"{a}x + {b} = {c}\", sp.Eq(a * sp.Symbol('x') + b, c)\n",
        "\n",
        "    for _ in range(5):  # Number of problems\n",
        "        problem, eq = generate_problem()\n",
        "        print(\"Solve the equation:\", problem)\n",
        "        user_answer = float(input(\"Enter your answer for x: \"))\n",
        "\n",
        "        solution = sp.solve(eq, sp.Symbol('x'))[0]\n",
        "        if np.isclose(user_answer, float(solution)):\n",
        "            print(\"Correct!\")\n",
        "        else:\n",
        "            print(f\"Incorrect! The correct answer is {solution}\")\n",
        "\n",
        "algebra_practice_game()\n"
      ]
    }
  ]
}